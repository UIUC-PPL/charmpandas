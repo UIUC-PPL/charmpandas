{
 "cells": [
  {
   "cell_type": "code",
   "execution_count": 1,
   "id": "2da208e1-3efd-4375-a9f9-739407f1d4eb",
   "metadata": {},
   "outputs": [],
   "source": [
    "import charmpandas as pd\n",
    "from charmpandas.interface import LocalCluster, CCSInterface"
   ]
  },
  {
   "cell_type": "code",
   "execution_count": 2,
   "id": "d431e44f-1f2e-4c9e-aee0-56c09ea1a7df",
   "metadata": {},
   "outputs": [],
   "source": [
    "#cluster = LocalCluster(min_pes=2, max_pes=2, activity_timeout=20, odf=3)\n",
    "cluster = CCSInterface(\"172.17.0.1\", 1234)"
   ]
  },
  {
   "cell_type": "code",
   "execution_count": 3,
   "id": "7ada71e6-df50-4da1-809f-e71ce5f02fc3",
   "metadata": {},
   "outputs": [],
   "source": [
    "pd.set_interface(cluster)"
   ]
  },
  {
   "cell_type": "code",
   "execution_count": 4,
   "id": "7f983ab6-54a4-4ece-a44f-1af66c915715",
   "metadata": {},
   "outputs": [],
   "source": [
    "df_ids = pd.read_parquet(\"/home/adityapb1546/charm/charmpandas/examples/user_ids_large.parquet\")"
   ]
  },
  {
   "cell_type": "code",
   "execution_count": 5,
   "id": "af42390e-7925-45c5-a29c-6b0636181b5d",
   "metadata": {},
   "outputs": [],
   "source": [
    "df_ages = pd.read_parquet(\"/home/adityapb1546/charm/charmpandas/examples/ages_large.parquet\")"
   ]
  },
  {
   "cell_type": "code",
   "execution_count": 6,
   "id": "8acd6417-f80d-4d5f-aff8-d4c484c052a5",
   "metadata": {},
   "outputs": [],
   "source": [
    "df_result = df_ages.join(df_ids, [\"first_name\", \"last_name\"])"
   ]
  },
  {
   "cell_type": "code",
   "execution_count": 7,
   "id": "adc4c54e-b49e-40ca-972d-aad7d6840e7b",
   "metadata": {},
   "outputs": [],
   "source": [
    "df_result = df_result.groupby([\"city\"])[\"user_id\"].count()"
   ]
  },
  {
   "cell_type": "code",
   "execution_count": 8,
   "id": "4486d1ca-9b65-4341-b27b-6847b57532f3",
   "metadata": {},
   "outputs": [
    {
     "data": {
      "text/html": [
       "<div>\n",
       "<style scoped>\n",
       "    .dataframe tbody tr th:only-of-type {\n",
       "        vertical-align: middle;\n",
       "    }\n",
       "\n",
       "    .dataframe tbody tr th {\n",
       "        vertical-align: top;\n",
       "    }\n",
       "\n",
       "    .dataframe thead th {\n",
       "        text-align: right;\n",
       "    }\n",
       "</style>\n",
       "<table border=\"1\" class=\"dataframe\">\n",
       "  <thead>\n",
       "    <tr style=\"text-align: right;\">\n",
       "      <th></th>\n",
       "      <th>city</th>\n",
       "      <th>count(user_id)</th>\n",
       "      <th>local_index</th>\n",
       "      <th>home_partition</th>\n",
       "    </tr>\n",
       "  </thead>\n",
       "  <tbody>\n",
       "    <tr>\n",
       "      <th>0</th>\n",
       "      <td>C2784</td>\n",
       "      <td>422</td>\n",
       "      <td>0</td>\n",
       "      <td>3</td>\n",
       "    </tr>\n",
       "    <tr>\n",
       "      <th>1</th>\n",
       "      <td>C1819</td>\n",
       "      <td>451</td>\n",
       "      <td>1</td>\n",
       "      <td>3</td>\n",
       "    </tr>\n",
       "    <tr>\n",
       "      <th>2</th>\n",
       "      <td>C2213</td>\n",
       "      <td>431</td>\n",
       "      <td>2</td>\n",
       "      <td>3</td>\n",
       "    </tr>\n",
       "    <tr>\n",
       "      <th>3</th>\n",
       "      <td>C9038</td>\n",
       "      <td>423</td>\n",
       "      <td>3</td>\n",
       "      <td>3</td>\n",
       "    </tr>\n",
       "    <tr>\n",
       "      <th>4</th>\n",
       "      <td>C9417</td>\n",
       "      <td>440</td>\n",
       "      <td>4</td>\n",
       "      <td>3</td>\n",
       "    </tr>\n",
       "    <tr>\n",
       "      <th>...</th>\n",
       "      <td>...</td>\n",
       "      <td>...</td>\n",
       "      <td>...</td>\n",
       "      <td>...</td>\n",
       "    </tr>\n",
       "    <tr>\n",
       "      <th>9996</th>\n",
       "      <td>C3296</td>\n",
       "      <td>439</td>\n",
       "      <td>624</td>\n",
       "      <td>12</td>\n",
       "    </tr>\n",
       "    <tr>\n",
       "      <th>9997</th>\n",
       "      <td>C4176</td>\n",
       "      <td>421</td>\n",
       "      <td>625</td>\n",
       "      <td>12</td>\n",
       "    </tr>\n",
       "    <tr>\n",
       "      <th>9998</th>\n",
       "      <td>C5312</td>\n",
       "      <td>412</td>\n",
       "      <td>626</td>\n",
       "      <td>12</td>\n",
       "    </tr>\n",
       "    <tr>\n",
       "      <th>9999</th>\n",
       "      <td>C7405</td>\n",
       "      <td>409</td>\n",
       "      <td>627</td>\n",
       "      <td>12</td>\n",
       "    </tr>\n",
       "    <tr>\n",
       "      <th>10000</th>\n",
       "      <td>C398</td>\n",
       "      <td>440</td>\n",
       "      <td>628</td>\n",
       "      <td>12</td>\n",
       "    </tr>\n",
       "  </tbody>\n",
       "</table>\n",
       "<p>10001 rows × 4 columns</p>\n",
       "</div>"
      ],
      "text/plain": [
       "        city  count(user_id)  local_index  home_partition\n",
       "0      C2784             422            0               3\n",
       "1      C1819             451            1               3\n",
       "2      C2213             431            2               3\n",
       "3      C9038             423            3               3\n",
       "4      C9417             440            4               3\n",
       "...      ...             ...          ...             ...\n",
       "9996   C3296             439          624              12\n",
       "9997   C4176             421          625              12\n",
       "9998   C5312             412          626              12\n",
       "9999   C7405             409          627              12\n",
       "10000   C398             440          628              12\n",
       "\n",
       "[10001 rows x 4 columns]"
      ]
     },
     "execution_count": 8,
     "metadata": {},
     "output_type": "execute_result"
    }
   ],
   "source": [
    "df_result.get()"
   ]
  },
  {
   "cell_type": "code",
   "execution_count": 8,
   "id": "15dbe255-637c-461d-ae2d-d197aea6f2a8",
   "metadata": {},
   "outputs": [],
   "source": [
    "x = _"
   ]
  },
  {
   "cell_type": "code",
   "execution_count": 9,
   "id": "58736e06-976f-43bf-bf54-27e389453dac",
   "metadata": {},
   "outputs": [
    {
     "data": {
      "text/plain": [
       "''"
      ]
     },
     "execution_count": 9,
     "metadata": {},
     "output_type": "execute_result"
    }
   ],
   "source": [
    "x"
   ]
  },
  {
   "cell_type": "code",
   "execution_count": 13,
   "id": "4f67698c-f31a-49c6-8a6c-0e6b7a0d7592",
   "metadata": {},
   "outputs": [],
   "source": [
    "counts = x[\"count(user_id)\"]"
   ]
  },
  {
   "cell_type": "code",
   "execution_count": 14,
   "id": "89ae4bf3-c39f-4f2d-82b0-3abdddacfe09",
   "metadata": {},
   "outputs": [
    {
     "data": {
      "text/plain": [
       "1000000"
      ]
     },
     "execution_count": 14,
     "metadata": {},
     "output_type": "execute_result"
    }
   ],
   "source": [
    "sum(counts)"
   ]
  },
  {
   "cell_type": "code",
   "execution_count": null,
   "id": "32b3b987-00f1-4a03-9723-f122f8b44a23",
   "metadata": {},
   "outputs": [],
   "source": []
  }
 ],
 "metadata": {
  "kernelspec": {
   "display_name": "Python 3 (ipykernel)",
   "language": "python",
   "name": "python3"
  },
  "language_info": {
   "codemirror_mode": {
    "name": "ipython",
    "version": 3
   },
   "file_extension": ".py",
   "mimetype": "text/x-python",
   "name": "python",
   "nbconvert_exporter": "python",
   "pygments_lexer": "ipython3",
   "version": "3.12.4"
  }
 },
 "nbformat": 4,
 "nbformat_minor": 5
}
