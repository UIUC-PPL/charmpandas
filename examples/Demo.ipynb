{
 "cells": [
  {
   "cell_type": "code",
   "execution_count": 1,
   "id": "2da208e1-3efd-4375-a9f9-739407f1d4eb",
   "metadata": {},
   "outputs": [],
   "source": [
    "import charmpandas as pd\n",
    "from charmpandas.interface import LocalCluster, CCSInterface"
   ]
  },
  {
   "cell_type": "code",
   "execution_count": 2,
   "id": "d431e44f-1f2e-4c9e-aee0-56c09ea1a7df",
   "metadata": {},
   "outputs": [],
   "source": [
    "#cluster = LocalCluster(min_pes=2, max_pes=2, activity_timeout=20, odf=3)\n",
    "cluster = CCSInterface(\"172.17.0.1\", 1234)"
   ]
  },
  {
   "cell_type": "code",
   "execution_count": 3,
   "id": "7ada71e6-df50-4da1-809f-e71ce5f02fc3",
   "metadata": {},
   "outputs": [],
   "source": [
    "pd.set_interface(cluster)"
   ]
  },
  {
   "cell_type": "code",
   "execution_count": 4,
   "id": "7f983ab6-54a4-4ece-a44f-1af66c915715",
   "metadata": {},
   "outputs": [],
   "source": [
    "df_ids = pd.read_parquet(\"/home/adityapb1546/charm/charmpandas/examples/user_ids_large.parquet\")"
   ]
  },
  {
   "cell_type": "code",
   "execution_count": 5,
   "id": "af42390e-7925-45c5-a29c-6b0636181b5d",
   "metadata": {},
   "outputs": [],
   "source": [
    "df_ages = pd.read_parquet(\"/home/adityapb1546/charm/charmpandas/examples/ages_large.parquet\")"
   ]
  },
  {
   "cell_type": "code",
   "execution_count": 6,
   "id": "8acd6417-f80d-4d5f-aff8-d4c484c052a5",
   "metadata": {},
   "outputs": [
    {
     "name": "stdout",
     "output_type": "stream",
     "text": [
      "Total time = 10.718802s\n"
     ]
    }
   ],
   "source": [
    "import time\n",
    "\n",
    "start = time.time()\n",
    "df_result = df_ages.join(df_ids, [\"first_name\", \"last_name\"])\n",
    "df_result = df_result.groupby([\"city\"])[\"user_id\"].count()\n",
    "df_result.get()\n",
    "print(\"Total time = %fs\" % (time.time() - start))"
   ]
  },
  {
   "cell_type": "code",
   "execution_count": null,
   "id": "adc4c54e-b49e-40ca-972d-aad7d6840e7b",
   "metadata": {},
   "outputs": [],
   "source": [
    "df_result = df_result.groupby([\"city\"])[\"user_id\"].count()"
   ]
  },
  {
   "cell_type": "code",
   "execution_count": 7,
   "id": "4486d1ca-9b65-4341-b27b-6847b57532f3",
   "metadata": {},
   "outputs": [
    {
     "data": {
      "text/html": [
       "<div>\n",
       "<style scoped>\n",
       "    .dataframe tbody tr th:only-of-type {\n",
       "        vertical-align: middle;\n",
       "    }\n",
       "\n",
       "    .dataframe tbody tr th {\n",
       "        vertical-align: top;\n",
       "    }\n",
       "\n",
       "    .dataframe thead th {\n",
       "        text-align: right;\n",
       "    }\n",
       "</style>\n",
       "<table border=\"1\" class=\"dataframe\">\n",
       "  <thead>\n",
       "    <tr style=\"text-align: right;\">\n",
       "      <th></th>\n",
       "      <th>city</th>\n",
       "      <th>count(user_id)</th>\n",
       "    </tr>\n",
       "  </thead>\n",
       "  <tbody>\n",
       "    <tr>\n",
       "      <th>0</th>\n",
       "      <td>C1854</td>\n",
       "      <td>447</td>\n",
       "    </tr>\n",
       "    <tr>\n",
       "      <th>1</th>\n",
       "      <td>C3233</td>\n",
       "      <td>458</td>\n",
       "    </tr>\n",
       "    <tr>\n",
       "      <th>2</th>\n",
       "      <td>C5687</td>\n",
       "      <td>415</td>\n",
       "    </tr>\n",
       "    <tr>\n",
       "      <th>3</th>\n",
       "      <td>C8435</td>\n",
       "      <td>389</td>\n",
       "    </tr>\n",
       "    <tr>\n",
       "      <th>4</th>\n",
       "      <td>C8118</td>\n",
       "      <td>450</td>\n",
       "    </tr>\n",
       "    <tr>\n",
       "      <th>...</th>\n",
       "      <td>...</td>\n",
       "      <td>...</td>\n",
       "    </tr>\n",
       "    <tr>\n",
       "      <th>9996</th>\n",
       "      <td>C511</td>\n",
       "      <td>410</td>\n",
       "    </tr>\n",
       "    <tr>\n",
       "      <th>9997</th>\n",
       "      <td>C6888</td>\n",
       "      <td>434</td>\n",
       "    </tr>\n",
       "    <tr>\n",
       "      <th>9998</th>\n",
       "      <td>C4501</td>\n",
       "      <td>462</td>\n",
       "    </tr>\n",
       "    <tr>\n",
       "      <th>9999</th>\n",
       "      <td>C8571</td>\n",
       "      <td>411</td>\n",
       "    </tr>\n",
       "    <tr>\n",
       "      <th>10000</th>\n",
       "      <td>C3178</td>\n",
       "      <td>457</td>\n",
       "    </tr>\n",
       "  </tbody>\n",
       "</table>\n",
       "<p>10001 rows × 2 columns</p>\n",
       "</div>"
      ],
      "text/plain": [
       "        city  count(user_id)\n",
       "0      C1854             447\n",
       "1      C3233             458\n",
       "2      C5687             415\n",
       "3      C8435             389\n",
       "4      C8118             450\n",
       "...      ...             ...\n",
       "9996    C511             410\n",
       "9997   C6888             434\n",
       "9998   C4501             462\n",
       "9999   C8571             411\n",
       "10000  C3178             457\n",
       "\n",
       "[10001 rows x 2 columns]"
      ]
     },
     "execution_count": 7,
     "metadata": {},
     "output_type": "execute_result"
    }
   ],
   "source": [
    "df_result.get()"
   ]
  },
  {
   "cell_type": "code",
   "execution_count": null,
   "id": "15dbe255-637c-461d-ae2d-d197aea6f2a8",
   "metadata": {},
   "outputs": [],
   "source": [
    "x = _"
   ]
  },
  {
   "cell_type": "code",
   "execution_count": null,
   "id": "58736e06-976f-43bf-bf54-27e389453dac",
   "metadata": {},
   "outputs": [],
   "source": [
    "x"
   ]
  },
  {
   "cell_type": "code",
   "execution_count": null,
   "id": "4f67698c-f31a-49c6-8a6c-0e6b7a0d7592",
   "metadata": {},
   "outputs": [],
   "source": [
    "counts = x[\"count(user_id)\"]"
   ]
  },
  {
   "cell_type": "code",
   "execution_count": null,
   "id": "89ae4bf3-c39f-4f2d-82b0-3abdddacfe09",
   "metadata": {},
   "outputs": [],
   "source": [
    "sum(counts)"
   ]
  },
  {
   "cell_type": "code",
   "execution_count": null,
   "id": "32b3b987-00f1-4a03-9723-f122f8b44a23",
   "metadata": {},
   "outputs": [],
   "source": []
  }
 ],
 "metadata": {
  "kernelspec": {
   "display_name": "Python 3 (ipykernel)",
   "language": "python",
   "name": "python3"
  },
  "language_info": {
   "codemirror_mode": {
    "name": "ipython",
    "version": 3
   },
   "file_extension": ".py",
   "mimetype": "text/x-python",
   "name": "python",
   "nbconvert_exporter": "python",
   "pygments_lexer": "ipython3",
   "version": "3.12.2"
  }
 },
 "nbformat": 4,
 "nbformat_minor": 5
}
