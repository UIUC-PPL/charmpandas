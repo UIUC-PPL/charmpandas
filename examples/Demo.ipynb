{
 "cells": [
  {
   "cell_type": "code",
   "execution_count": 1,
   "id": "2da208e1-3efd-4375-a9f9-739407f1d4eb",
   "metadata": {},
   "outputs": [
    {
     "ename": "ModuleNotFoundError",
     "evalue": "No module named 'charmpandas'",
     "output_type": "error",
     "traceback": [
      "\u001b[1;31m---------------------------------------------------------------------------\u001b[0m",
      "\u001b[1;31mModuleNotFoundError\u001b[0m                       Traceback (most recent call last)",
      "Cell \u001b[1;32mIn[1], line 1\u001b[0m\n\u001b[1;32m----> 1\u001b[0m \u001b[38;5;28;01mimport\u001b[39;00m \u001b[38;5;21;01mcharmpandas\u001b[39;00m \u001b[38;5;28;01mas\u001b[39;00m \u001b[38;5;21;01mpd\u001b[39;00m\n\u001b[0;32m      2\u001b[0m \u001b[38;5;28;01mfrom\u001b[39;00m \u001b[38;5;21;01mcharmpandas\u001b[39;00m\u001b[38;5;21;01m.\u001b[39;00m\u001b[38;5;21;01minterface\u001b[39;00m \u001b[38;5;28;01mimport\u001b[39;00m LocalCluster, CCSInterface\n",
      "\u001b[1;31mModuleNotFoundError\u001b[0m: No module named 'charmpandas'"
     ]
    }
   ],
   "source": [
    "import charmpandas as pd\n",
    "from charmpandas.interface import LocalCluster, CCSInterface"
   ]
  },
  {
   "cell_type": "code",
   "execution_count": 2,
   "id": "d431e44f-1f2e-4c9e-aee0-56c09ea1a7df",
   "metadata": {},
   "outputs": [
    {
     "name": "stdout",
     "output_type": "stream",
     "text": [
      "Submitting jobs to SLURM cluster\n"
     ]
    }
   ],
   "source": [
    "\n",
    "cluster = LocalCluster(min_pes=4,max_pes=4, odf=4,activity_timeout=60)\n",
    "pd.set_interface(cluster)"
   ]
  },
  {
   "cell_type": "code",
   "execution_count": null,
   "id": "c4f0e291",
   "metadata": {},
   "outputs": [],
   "source": []
  },
  {
   "cell_type": "code",
   "execution_count": 3,
   "id": "7f983ab6-54a4-4ece-a44f-1af66c915715",
   "metadata": {},
   "outputs": [],
   "source": [
    "df_ids = pd.read_parquet(\"../user_ids_small.parquet\")"
   ]
  },
  {
   "cell_type": "code",
   "execution_count": 4,
   "id": "af42390e-7925-45c5-a29c-6b0636181b5d",
   "metadata": {},
   "outputs": [],
   "source": [
    "df_ages = pd.read_parquet(\"../ages_small.parquet\")"
   ]
  },
  {
   "cell_type": "code",
   "execution_count": 5,
   "id": "8acd6417-f80d-4d5f-aff8-d4c484c052a5",
   "metadata": {},
   "outputs": [
    {
     "name": "stdout",
     "output_type": "stream",
     "text": [
      "Total time = 10.718802s\n"
     ]
    }
   ],
   "source": [
    "import time\n",
    "\n",
    "start = time.time()\n",
    "df_result = df_ages.join(df_ids, [\"first_name\", \"last_name\"])\n",
    "df_result = df_result.groupby([\"city\"])[\"user_id\"].count()\n",
    "df_result.get()\n",
    "print(\"Total time = %fs\" % (time.time() - start))"
   ]
  },
  {
   "cell_type": "code",
   "execution_count": 6,
   "id": "adc4c54e-b49e-40ca-972d-aad7d6840e7b",
   "metadata": {},
   "outputs": [],
   "source": [
    "df_result = df_result.groupby([\"city\"])[\"user_id\"].count()"
   ]
  },
  {
   "cell_type": "code",
   "execution_count": null,
   "id": "4486d1ca-9b65-4341-b27b-6847b57532f3",
   "metadata": {},
   "outputs": [],
   "source": [
    "df_result.get()"
   ]
  },
  {
   "cell_type": "code",
   "execution_count": null,
   "id": "15dbe255-637c-461d-ae2d-d197aea6f2a8",
   "metadata": {},
   "outputs": [],
   "source": [
    "x = _"
   ]
  },
  {
   "cell_type": "code",
   "execution_count": null,
   "id": "58736e06-976f-43bf-bf54-27e389453dac",
   "metadata": {},
   "outputs": [],
   "source": [
    "x"
   ]
  },
  {
   "cell_type": "code",
   "execution_count": null,
   "id": "4f67698c-f31a-49c6-8a6c-0e6b7a0d7592",
   "metadata": {},
   "outputs": [],
   "source": [
    "counts = x[\"count(user_id)\"]"
   ]
  },
  {
   "cell_type": "code",
   "execution_count": null,
   "id": "89ae4bf3-c39f-4f2d-82b0-3abdddacfe09",
   "metadata": {},
   "outputs": [],
   "source": [
    "sum(counts)"
   ]
  },
  {
   "cell_type": "code",
   "execution_count": null,
   "id": "32b3b987-00f1-4a03-9723-f122f8b44a23",
   "metadata": {},
   "outputs": [],
   "source": [
    "import dask.dataframe as dd\n",
    "from charmpandas.dask_expr import execute_dask\n",
    "\n",
    "df = dd.read_parquet(\"../user_ids_small.parquet\")\n",
    "\n",
    "df.city = df.city + df.city\n",
    "\n",
    "df = df.simplify()\n",
    "\n",
    "res = df.groupby(['city'])\n",
    "\n",
    "pd_df = execute_dask(res) \n",
    "\n",
    "pd_df.get()\n",
    "\n"
   ]
  }
 ],
 "metadata": {
  "kernelspec": {
   "display_name": "Python 3",
   "language": "python",
   "name": "python3"
  },
  "language_info": {
   "codemirror_mode": {
    "name": "ipython",
    "version": 3
   },
   "file_extension": ".py",
   "mimetype": "text/x-python",
   "name": "python",
   "nbconvert_exporter": "python",
   "pygments_lexer": "ipython3",
   "version": "3.12.4"
  }
 },
 "nbformat": 4,
 "nbformat_minor": 5
}
